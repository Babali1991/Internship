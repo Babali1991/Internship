{
 "cells": [
  {
   "cell_type": "code",
   "execution_count": 1,
   "id": "0bf0ee94",
   "metadata": {},
   "outputs": [],
   "source": [
    "#python program to print factors of a number"
   ]
  },
  {
   "cell_type": "code",
   "execution_count": 6,
   "id": "7a4d7fad",
   "metadata": {},
   "outputs": [
    {
     "name": "stdout",
     "output_type": "stream",
     "text": [
      "Enter a number4\n",
      "1\n",
      "2\n",
      "4\n"
     ]
    }
   ],
   "source": [
    "n = int(input(\"Enter a number\"))\n",
    "for x in range(1,n+1):\n",
    "    if n%x ==0:\n",
    "        print(x)\n",
    "    "
   ]
  },
  {
   "cell_type": "code",
   "execution_count": 7,
   "id": "b35b50d1",
   "metadata": {},
   "outputs": [],
   "source": [
    "#find python program whether pailandrome or not"
   ]
  },
  {
   "cell_type": "code",
   "execution_count": 3,
   "id": "77d435bb",
   "metadata": {},
   "outputs": [
    {
     "name": "stdout",
     "output_type": "stream",
     "text": [
      "Enter a string:naman\n",
      "string is pailndrome...\n"
     ]
    }
   ],
   "source": [
    "Orginal = input(\"Enter a string:\")\n",
    "Reverse = Orginal [::-1]\n",
    "if Orginal == Reverse:\n",
    "    print(\"string is pailndrome...\")\n",
    "else:     \n",
    "          \n",
    "    print(\"string is not pailndrome...\")"
   ]
  },
  {
   "cell_type": "code",
   "execution_count": 4,
   "id": "3d0ce776",
   "metadata": {},
   "outputs": [],
   "source": [
    "#python program to print the frequency of each character present in a given string."
   ]
  },
  {
   "cell_type": "code",
   "execution_count": 6,
   "id": "9271c206",
   "metadata": {},
   "outputs": [
    {
     "name": "stdout",
     "output_type": "stream",
     "text": [
      "Enter StringHello Data Science World\n",
      "{'H': 1, 'e': 3, 'l': 3, 'o': 2, ' ': 3, 'D': 1, 'a': 2, 't': 1, 'S': 1, 'c': 2, 'i': 1, 'n': 1, 'W': 1, 'r': 1, 'd': 1}\n"
     ]
    }
   ],
   "source": [
    "str = input(\"Enter String\")\n",
    "#print(str)\n",
    "l=list(str)\n",
    "#print(l)\n",
    "freq=[l.count(ele) for ele in l]\n",
    "#print(freq)\n",
    "d=dict(zip(l,freq))\n",
    "print(d)"
   ]
  },
  {
   "cell_type": "code",
   "execution_count": 7,
   "id": "627ac3e9",
   "metadata": {},
   "outputs": [],
   "source": [
    "#python program to find number is prime or not."
   ]
  },
  {
   "cell_type": "code",
   "execution_count": 8,
   "id": "7fd1c2f1",
   "metadata": {},
   "outputs": [
    {
     "name": "stdout",
     "output_type": "stream",
     "text": [
      "Enter the num :6\n",
      "the number is neither prime nor composite\n",
      "it is a prime num:\n",
      "it is a composite num\n",
      "it is a composite num\n",
      "it is a composite num\n",
      "it is a composite num\n"
     ]
    }
   ],
   "source": [
    "num = int(input(\"Enter the num :\"))\n",
    "count = 0\n",
    "i=1\n",
    "while i<=num:\n",
    "    if num%1==0:\n",
    "        count=count+1\n",
    "        i=i+1\n",
    "        \n",
    "    if count==2:\n",
    "        print(\"it is a prime num:\")\n",
    "    elif count>2:\n",
    "        print(\"it is a composite num\")\n",
    "    else:\n",
    "        print(\"the number is neither prime nor composite\")\n",
    "        \n",
    "\n",
    "        \n",
    "        \n",
    "\n",
    "        "
   ]
  },
  {
   "cell_type": "code",
   "execution_count": 9,
   "id": "881ff48a",
   "metadata": {},
   "outputs": [
    {
     "name": "stdout",
     "output_type": "stream",
     "text": [
      "Enter the num :4\n",
      "the number is neither prime nor composite\n",
      "it is a prime num:\n",
      "it is a composite num\n",
      "it is a composite num\n"
     ]
    }
   ],
   "source": [
    "num = int(input(\"Enter the num :\"))\n",
    "count = 0\n",
    "i=1\n",
    "while i<=num:\n",
    "    if num%1==0:\n",
    "        count=count+1\n",
    "        i=i+1\n",
    "        \n",
    "    if count==2:\n",
    "        print(\"it is a prime num:\")\n",
    "    elif count>2:\n",
    "        print(\"it is a composite num\")\n",
    "    else:\n",
    "        print(\"the number is neither prime nor composite\")\n",
    "        \n"
   ]
  },
  {
   "cell_type": "code",
   "execution_count": null,
   "id": "1471a939",
   "metadata": {},
   "outputs": [],
   "source": []
  }
 ],
 "metadata": {
  "kernelspec": {
   "display_name": "Python 3 (ipykernel)",
   "language": "python",
   "name": "python3"
  },
  "language_info": {
   "codemirror_mode": {
    "name": "ipython",
    "version": 3
   },
   "file_extension": ".py",
   "mimetype": "text/x-python",
   "name": "python",
   "nbconvert_exporter": "python",
   "pygments_lexer": "ipython3",
   "version": "3.11.4"
  }
 },
 "nbformat": 4,
 "nbformat_minor": 5
}
